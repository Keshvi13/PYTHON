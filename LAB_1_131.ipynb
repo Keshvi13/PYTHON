{
 "cells": [
  {
   "cell_type": "markdown",
   "metadata": {},
   "source": [
    "<a href='https://www.darshan.ac.in/'> <img src='https://www.darshan.ac.in/Content/media/DU_Logo.svg' width=\"250\" height=\"300\"/></a>\n",
    "<pre>\n",
    "<center><b><h1>Python Programming - 2101CS405</b></center>\n",
    "<center><b><h1>Lab - 1</b></center>    \n",
    "<pre>"
   ]
  },
  {
   "cell_type": "markdown",
   "metadata": {},
   "source": [
    "### 01) WAP to print “Hello World”"
   ]
  },
  {
   "cell_type": "code",
   "execution_count": 13,
   "metadata": {},
   "outputs": [
    {
     "name": "stdout",
     "output_type": "stream",
     "text": [
      "Hello Word!!!\n"
     ]
    }
   ],
   "source": [
    "print('Hello Word!!!')"
   ]
  },
  {
   "cell_type": "markdown",
   "metadata": {},
   "source": [
    "### 02) WAP to print your address i) using single print ii) using multiple print"
   ]
  },
  {
   "cell_type": "code",
   "execution_count": 14,
   "metadata": {},
   "outputs": [
    {
     "name": "stdout",
     "output_type": "stream",
     "text": [
      "Madhav milan App.- A Block No-305 madhav vatika-2, street no-3 150 feer ring road\n"
     ]
    }
   ],
   "source": [
    "print('Madhav milan App.- A Block No-305 madhav vatika-2, street no-3 150 feer ring road')"
   ]
  },
  {
   "cell_type": "code",
   "execution_count": 16,
   "metadata": {},
   "outputs": [
    {
     "name": "stdout",
     "output_type": "stream",
     "text": [
      "Madhav milan App.- A Block No-305 \n",
      "madhav vatika-2, street no-3 sukhsagar behind\n",
      "150 feet ring road, Rajkot\n"
     ]
    }
   ],
   "source": [
    "print('Madhav milan App.- A Block No-305 ')\n",
    "print('madhav vatika-2, street no-3 sukhsagar behind')\n",
    "print('150 feet ring road, Rajkot')"
   ]
  },
  {
   "cell_type": "markdown",
   "metadata": {},
   "source": [
    "### 03) WAP to print addition of 2 numbers (without input function)"
   ]
  },
  {
   "cell_type": "code",
   "execution_count": 1,
   "metadata": {},
   "outputs": [
    {
     "name": "stdout",
     "output_type": "stream",
     "text": [
      "SUMOF GIVEN TWO DIGIT : 112\n"
     ]
    }
   ],
   "source": [
    "num1 = 67\n",
    "num2 = 45\n",
    "sum = num1+num2\n",
    "print('SUMOF GIVEN TWO DIGIT :',sum)"
   ]
  },
  {
   "cell_type": "markdown",
   "metadata": {},
   "source": [
    "### 04) WAP to calculate and print average of 2 numbers (without input function)"
   ]
  },
  {
   "cell_type": "code",
   "execution_count": 18,
   "metadata": {},
   "outputs": [
    {
     "name": "stdout",
     "output_type": "stream",
     "text": [
      "The avrage of num: 50.0\n"
     ]
    }
   ],
   "source": [
    "num1 = 60\n",
    "num2 = 40\n",
    "avg = (num1+num2)/2\n",
    "print('The avrage of num:',avg)"
   ]
  },
  {
   "cell_type": "markdown",
   "metadata": {},
   "source": [
    "### 05) WAP to add two number entered by user."
   ]
  },
  {
   "cell_type": "code",
   "execution_count": 33,
   "metadata": {},
   "outputs": [
    {
     "name": "stdout",
     "output_type": "stream",
     "text": [
      "Enter first number: 45\n",
      "Enter second number: 5\n",
      "The sum of no: 50\n"
     ]
    }
   ],
   "source": [
    "num1 = int(input('Enter first number: '))\n",
    "num2 = int(input('Enter second number: '))\n",
    "sum = num1+num2\n",
    "print('The sum of no:', sum )"
   ]
  },
  {
   "cell_type": "markdown",
   "metadata": {},
   "source": [
    "### 06) WAP to calculate simple interest."
   ]
  },
  {
   "cell_type": "code",
   "execution_count": 34,
   "metadata": {},
   "outputs": [
    {
     "name": "stdout",
     "output_type": "stream",
     "text": [
      "Enter Principle is:8\n",
      "Enter time period is:8\n",
      "Enter rate of interest:6\n",
      "SIMPLE INTEREST:: 3.84\n"
     ]
    }
   ],
   "source": [
    "P=int(input(\"Enter Principle is:\"))\n",
    "N=int(input(\"Enter time period is:\"))\n",
    "R=int(input(\"Enter rate of interest:\"))\n",
    "si=(P*R*N)/100\n",
    "print(\"SIMPLE INTEREST::\",si)"
   ]
  },
  {
   "cell_type": "markdown",
   "metadata": {},
   "source": [
    "### 07) WAP Calculate Area and Circumfrence of Circle"
   ]
  },
  {
   "cell_type": "code",
   "execution_count": 35,
   "metadata": {},
   "outputs": [
    {
     "name": "stdout",
     "output_type": "stream",
     "text": [
      "Enter the Radius::5\n",
      "Area of Circle=78.50\n",
      "Circumfrence of Circle=31.40\n"
     ]
    }
   ],
   "source": [
    "PI=3.14\n",
    "radius=float(input(\"Enter the Radius of Circle::\"))\n",
    "area=PI*radius*radius\n",
    "circum=2*PI*radius\n",
    "print(\"Area of Circle=%.2f\"%area)\n",
    "print(\"Circumfrence of Circle=%.2f\"%circum)"
   ]
  },
  {
   "cell_type": "markdown",
   "metadata": {},
   "source": [
    "### 08) WAP to print Multiplication table of given number without using loops."
   ]
  },
  {
   "cell_type": "code",
   "execution_count": 1,
   "metadata": {},
   "outputs": [
    {
     "name": "stdout",
     "output_type": "stream",
     "text": [
      "Enter the Number to print its Multiplication table:5\n",
      "5  * 1 = 5\n",
      "5  * 2 = 10\n",
      "5  * 3 = 15\n",
      "5  * 4 = 20\n",
      "5  * 5 = 25\n",
      "5  * 6 = 30\n",
      "5  * 7 = 35\n",
      "5  * 8 = 40\n",
      "5  * 9 = 45\n",
      "5  * 10 = 50\n"
     ]
    }
   ],
   "source": [
    "num1=int(input(\"Enter the Number to print its Multiplication table:\"))\n",
    "print(num1,\" * 1 =\",num1*1)\n",
    "print(num1,\" * 2 =\",num1*2)\n",
    "print(num1,\" * 3 =\",num1*3)\n",
    "print(num1,\" * 4 =\",num1*4)\n",
    "print(num1,\" * 5 =\",num1*5)\n",
    "print(num1,\" * 6 =\",num1*6)\n",
    "print(num1,\" * 7 =\",num1*7)\n",
    "print(num1,\" * 8 =\",num1*8)\n",
    "print(num1,\" * 9 =\",num1*9)\n",
    "print(num1,\" * 10 =\",num1*10)\n"
   ]
  },
  {
   "cell_type": "markdown",
   "metadata": {},
   "source": [
    "### 09) WAP to calculate Area of Triangle (hint: a = h * b * 0.5)"
   ]
  },
  {
   "cell_type": "code",
   "execution_count": 32,
   "metadata": {},
   "outputs": [
    {
     "name": "stdout",
     "output_type": "stream",
     "text": [
      "Enter First Side:5\n",
      "Enter Second Side:6\n",
      "Enter Third Side:7\n",
      "Area of Triangle:: 14.696938456699069\n"
     ]
    }
   ],
   "source": [
    "a=float(input(\"Enter First Side:\"))\n",
    "b=float(input(\"Enter Second Side:\"))\n",
    "c=float(input(\"Enter Third Side:\"))\n",
    "s=(a+b+c)/2\n",
    "area =(s*(s-a)*(s-b)*(s-c))**0.5\n",
    "print(\"Area of Triangle::\",area)"
   ]
  },
  {
   "cell_type": "markdown",
   "metadata": {},
   "source": [
    "### 10) WAP to convert degree to Fahrenheit and vice versa."
   ]
  },
  {
   "cell_type": "code",
   "execution_count": 26,
   "metadata": {},
   "outputs": [
    {
     "name": "stdout",
     "output_type": "stream",
     "text": [
      "Enter the Degree:54\n",
      "degree to Fahrenheit:: 129.2\n",
      "Enter the Fahrenheit:129.2\n",
      "degree to Fahrenheit:: 53.99999999999999\n"
     ]
    }
   ],
   "source": [
    "degree=float(input(\"Enter the Degree:\"))\n",
    "fahren=degree*(9/5)+32;\n",
    "print(\"degree to Fahrenheit::\",fahren)\n",
    "fahren=float(input(\"Enter the Fahrenheit:\"))\n",
    "degree=(5/9)*(fahren-32)\n",
    "print(\"Fahrenheit to degree::\",degree)\n"
   ]
  },
  {
   "cell_type": "markdown",
   "metadata": {},
   "source": [
    "### 11) WAP to calculate total marks and Percentage."
   ]
  },
  {
   "cell_type": "code",
   "execution_count": 25,
   "metadata": {},
   "outputs": [
    {
     "name": "stdout",
     "output_type": "stream",
     "text": [
      "Enter marks of five subects:\n",
      "45\n",
      "78\n",
      "89\n",
      "78\n",
      "89\n",
      "TOTAL: 379.0\n",
      "PERCENTAGE: 75.8\n"
     ]
    }
   ],
   "source": [
    "print(\"Enter marks of five subects:\")\n",
    "S1=float(input())\n",
    "S2=float(input())\n",
    "S3=float(input())\n",
    "S4=float(input())\n",
    "S5=float(input())\n",
    "total=S1+S2+S3+S4+S5;\n",
    "per=(total/500)*100;\n",
    "print(\"TOTAL:\",total)\n",
    "print(\"PERCENTAGE:\",per)"
   ]
  },
  {
   "cell_type": "markdown",
   "metadata": {},
   "source": [
    "### 12) Compute distance between two points taking input from the user (Pythagorean Theorem)."
   ]
  },
  {
   "cell_type": "code",
   "execution_count": 12,
   "metadata": {},
   "outputs": [
    {
     "name": "stdout",
     "output_type": "stream",
     "text": [
      "Enter the X1:3\n",
      "Enter the X2:7\n",
      "Enter the Y1:4\n",
      "Enter the Y2:7\n",
      "distance between two points:(Pythagorean Theorem):: 5.0\n"
     ]
    }
   ],
   "source": [
    "X1=int(input(\"Enter the X1:\"))\n",
    "X2=int(input(\"Enter the X2:\"))\n",
    "Y1=int(input(\"Enter the Y1:\"))\n",
    "Y2=int(input(\"Enter the Y2:\"))\n",
    "result=(((X2-X1)**2+(Y2-Y1)**2)**0.5)\n",
    "print(\"distance between two points:(Pythagorean Theorem)::\",result)"
   ]
  },
  {
   "cell_type": "markdown",
   "metadata": {},
   "source": [
    "### 13) WAP to convert seconds into hours, minutes & seconds and print in HH:MM:SS\n",
    "[e.g. 10000 seconds mean 2:46:40 (2 Hours, 46 Minutes, 40Seconds)]"
   ]
  },
  {
   "cell_type": "code",
   "execution_count": 7,
   "metadata": {},
   "outputs": [
    {
     "name": "stdout",
     "output_type": "stream",
     "text": [
      "Enter the Seconds:12345\n",
      "HH:MM:SS == 3 25 45\n"
     ]
    }
   ],
   "source": [
    "sec=int(input(\"Enter the Seconds:\"))\n",
    "hour=sec//3600\n",
    "sec %= 3600\n",
    "min = sec // 60\n",
    "sec %=60\n",
    "print(\"HH:MM:SS ==\",hour,min,sec)"
   ]
  },
  {
   "cell_type": "markdown",
   "metadata": {},
   "source": [
    "### 14) WAP to enter distance into kilometer and convert it into meter, feet,inches, and centimeter"
   ]
  },
  {
   "cell_type": "code",
   "execution_count": 4,
   "metadata": {},
   "outputs": [
    {
     "name": "stdout",
     "output_type": "stream",
     "text": [
      "Enter the Distance:5\n",
      "KILOMETER TO METER: 5000\n",
      "KILOMETER TO FEET: 16404.0\n",
      "KILOMETER TO INCHES: 196850.5\n",
      "KILOMETER TO CENTIMETER: 500000\n"
     ]
    }
   ],
   "source": [
    "km = int(input(\"Enter the Distance:\"))\n",
    "mtr=(km*1000)\n",
    "feet=(km*3280.8)\n",
    "inch=(km*39370.1)\n",
    "cent=(km*100000)\n",
    "         \n",
    "print(\"KILOMETER TO METER:\",mtr)\n",
    "print(\"KILOMETER TO FEET:\",feet)\n",
    "print(\"KILOMETER TO INCHES:\",inch)\n",
    "print(\"KILOMETER TO CENTIMETER:\",cent)"
   ]
  },
  {
   "cell_type": "code",
   "execution_count": null,
   "metadata": {},
   "outputs": [],
   "source": []
  }
 ],
 "metadata": {
  "kernelspec": {
   "display_name": "Python 3 (ipykernel)",
   "language": "python",
   "name": "python3"
  },
  "language_info": {
   "codemirror_mode": {
    "name": "ipython",
    "version": 3
   },
   "file_extension": ".py",
   "mimetype": "text/x-python",
   "name": "python",
   "nbconvert_exporter": "python",
   "pygments_lexer": "ipython3",
   "version": "3.9.13"
  }
 },
 "nbformat": 4,
 "nbformat_minor": 4
}
